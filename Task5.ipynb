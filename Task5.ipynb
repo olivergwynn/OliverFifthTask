{
 "cells": [
  {
   "cell_type": "markdown",
   "id": "344ef380-b3c1-419c-a032-e6aa1b71ae61",
   "metadata": {},
   "source": [
    "# Recreating MTP 2.6 Figure, Population by Generation"
   ]
  },
  {
   "cell_type": "markdown",
   "id": "4da7ac78-811d-42b9-aa70-3880be7c777b",
   "metadata": {},
   "source": [
    "## Introduction"
   ]
  },
  {
   "cell_type": "markdown",
   "id": "4073b9fc-b2d4-452c-9322-1c02160eba41",
   "metadata": {},
   "source": [
    "This script will recreate the 2.6 figure from 2021 ACS 5-year estimate data"
   ]
  },
  {
   "cell_type": "markdown",
   "id": "c0bd1d2d-7448-4a0f-a220-c3d4bd9980ac",
   "metadata": {},
   "source": [
    "### Process Outline"
   ]
  },
  {
   "cell_type": "markdown",
   "id": "3862fb16-404e-47c7-b8da-6a370d58bd32",
   "metadata": {},
   "source": [
    "The process carried out by this workflow can be described as follows:\n",
    "  - The script will retrieve the Census PEP datasets from the local MORPC repo\n",
    "\n",
    "  - fdsfsdf"
   ]
  },
  {
   "cell_type": "markdown",
   "id": "f8341f37-7216-4285-8162-a6d079d7053c",
   "metadata": {},
   "source": [
    "## Setup"
   ]
  },
  {
   "cell_type": "markdown",
   "id": "fc889f5b-564b-420e-aa0d-6bc7242daf25",
   "metadata": {},
   "source": [
    "### Import Required Packages"
   ]
  },
  {
   "cell_type": "code",
   "execution_count": 778,
   "id": "8e7c9527-e5ac-4644-8326-b625d738d7fa",
   "metadata": {},
   "outputs": [],
   "source": [
    "import csv\n",
    "import os\n",
    "import shutil\n",
    "import json\n",
    "from tableschema import Table\n",
    "import pandas as pd\n",
    "import xlsxwriter\n",
    "import matplotlib.pyplot as plt\n",
    "from pprint import pprint\n",
    "from frictionless import Detector, describe, validate, Schema\n",
    "import sys\n",
    "sys.path.append(os.path.normpath(\"../morpc-common\"))\n",
    "import morpc"
   ]
  },
  {
   "cell_type": "markdown",
   "id": "b40c0679-a9e1-4e42-97df-b38d9455b659",
   "metadata": {},
   "source": [
    "### Parameters"
   ]
  },
  {
   "cell_type": "code",
   "execution_count": 779,
   "id": "a3047541-be94-44a9-89cc-aeda5986307f",
   "metadata": {},
   "outputs": [],
   "source": [
    "# Assign a color to each of the expected bars in the chart using hex codes.\n",
    "BAR_COLORS={\n",
    "        \"The Greatest Generation (Born 1945 or earlier)\":morpc.CONST_MORPC_COLORS[\"darkblue\"],\n",
    "        \"Baby Boomers (Born 1946 - 1965)\":morpc.CONST_MORPC_COLORS[\"midblue\"],\n",
    "        \"Generation X (Born 1966 - 1980)\":morpc.CONST_MORPC_COLORS[\"blue\"],\n",
    "        \"Millenials (Born 1981 - 1995)\":morpc.CONST_MORPC_COLORS[\"bluegreen\"],\n",
    "        \"Generation Z (Born 1996 - 2009)\":morpc.CONST_MORPC_COLORS[\"darkgreen\"],\n",
    "        \"Generation ALPHA (Born 2011 and later)\":morpc.CONST_MORPC_COLORS[\"lightgreen\"]\n",
    "}\n",
    "\n",
    "CONST_REGIONS = {\n",
    "    \"15-County Region\": [\"Delaware County, Ohio\", \"Fairfield County, Ohio\", \"Fayette\", \"Franklin\", \"Hocking\", \"Knox\", \"Licking\", \"Logan\", \"Madison\", \"Marion\", \"Morrow\", \"Perry\", \"Pickaway\", \"Ross\", \"Union\"],\n",
    "    \"10-County Region\": [\"Delaware County, Ohio\", \"Fairfield County, Ohio\", \"Franklin County, Ohio\", \"Knox County, Ohio\", \"Licking County, Ohio\", \"Madison County, Ohio\", \"Marion County, Ohio\", \"Morrow County, Ohio\", \"Pickaway County, Ohio\", \"Union County, Ohio\"],\n",
    "    \"CORPO Region\": [\"Fairfield\", \"Knox\", \"Madison\", \"Marion\", \"Morrow\", \"Pickaway\", \"Union\"]\n",
    "}\n",
    "\n",
    "# Define input and output directories\n",
    "INPUT_DIR = \"./input_data\"\n",
    "OUTPUT_DIR = \"./output_data\""
   ]
  },
  {
   "cell_type": "markdown",
   "id": "2baf8d31-8911-4b9f-a732-880453b60e56",
   "metadata": {},
   "source": [
    "### Define inputs"
   ]
  },
  {
   "cell_type": "markdown",
   "id": "ab78464f-c359-41e6-aa3c-e513af5714c3",
   "metadata": {},
   "source": [
    "#### 2021 ACS 5-year estimates"
   ]
  },
  {
   "cell_type": "code",
   "execution_count": 780,
   "id": "fbabbe75-460a-40dd-86e1-72411ff458af",
   "metadata": {},
   "outputs": [
    {
     "name": "stdout",
     "output_type": "stream",
     "text": [
      "Data: ./input_data\\ACSST5Y2021.S0101-Data.csv\n",
      "Schema: ./input_data\\ACSST5Y2021.S0101-Column-Metadata.csv\n"
     ]
    }
   ],
   "source": [
    "ACSST5Y2021_TABLE_FILENAME = \"ACSST5Y2021.S0101-Data.csv\"\n",
    "ACSST5Y2021_TABLE_PATH = os.path.join(INPUT_DIR, ACSST5Y2021_TABLE_FILENAME)\n",
    "\n",
    "ACSST5Y2021_TABLE_SCHEMA_FILENAME = \"ACSST5Y2021.S0101-Column-Metadata.csv\"\n",
    "ACSST5Y2021_TABLE_SCHEMA_PATH = os.path.join(INPUT_DIR, ACSST5Y2021_TABLE_SCHEMA_FILENAME)\n",
    "\n",
    "print(\"Data: {}\".format(ACSST5Y2021_TABLE_PATH))\n",
    "print(\"Schema: {}\".format(ACSST5Y2021_TABLE_SCHEMA_PATH))"
   ]
  },
  {
   "cell_type": "markdown",
   "id": "110aa4f5-d578-457d-bcd2-10273676bf80",
   "metadata": {},
   "source": [
    "### Define outputs"
   ]
  },
  {
   "cell_type": "markdown",
   "id": "36d7b9df-5bee-412e-bed2-08a0e5e201f9",
   "metadata": {},
   "source": [
    "#### Data used"
   ]
  },
  {
   "cell_type": "code",
   "execution_count": 781,
   "id": "a5dca40c-ec95-42df-8e68-ca1c289bf36f",
   "metadata": {},
   "outputs": [],
   "source": [
    "OUTPUT_TABLE_FILENAME = \"output_data.csv\"\n",
    "OUTPUT_TABLE_PATH = os.path.join(OUTPUT_DIR, OUTPUT_TABLE_FILENAME)"
   ]
  },
  {
   "cell_type": "markdown",
   "id": "c95fbeaf-ae3f-4ce4-94cb-bcfbbd39d21c",
   "metadata": {},
   "source": [
    "#### Compiled Excel sheet"
   ]
  },
  {
   "cell_type": "code",
   "execution_count": 782,
   "id": "cf3eefea-8532-441d-abaa-efc2a6a7f63f",
   "metadata": {},
   "outputs": [
    {
     "name": "stdout",
     "output_type": "stream",
     "text": [
      "Output data path: ./output_data\\compiled.xlsx\n"
     ]
    }
   ],
   "source": [
    "EXCEL_TABLE_FILENAME = \"compiled.xlsx\"\n",
    "EXCEL_TABLE_PATH = os.path.join(OUTPUT_DIR, EXCEL_TABLE_FILENAME)\n",
    "print(\"Output data path: {}\".format(EXCEL_TABLE_PATH))"
   ]
  },
  {
   "cell_type": "markdown",
   "id": "15b545ef-6ced-43f8-93b7-e7df76fa903a",
   "metadata": {},
   "source": [
    "#### Test output"
   ]
  },
  {
   "cell_type": "code",
   "execution_count": 783,
   "id": "029ae5e5-5a8c-4f36-a554-d3a60fc11c89",
   "metadata": {},
   "outputs": [],
   "source": [
    "TEST_TABLE_FILENAME = \"test_data.csv\"\n",
    "TEST_TABLE_PATH = os.path.join(OUTPUT_DIR, TEST_TABLE_FILENAME)"
   ]
  },
  {
   "cell_type": "markdown",
   "id": "2721167c-26b7-492b-ba40-d1e1a26f1ff9",
   "metadata": {},
   "source": [
    "## Extracting Relevant Data"
   ]
  },
  {
   "cell_type": "code",
   "execution_count": 784,
   "id": "fd62bc4e-42d2-4b72-8017-4c93d3c7de46",
   "metadata": {
    "scrolled": true
   },
   "outputs": [
    {
     "data": {
      "text/html": [
       "<div>\n",
       "<style scoped>\n",
       "    .dataframe tbody tr th:only-of-type {\n",
       "        vertical-align: middle;\n",
       "    }\n",
       "\n",
       "    .dataframe tbody tr th {\n",
       "        vertical-align: top;\n",
       "    }\n",
       "\n",
       "    .dataframe thead th {\n",
       "        text-align: right;\n",
       "    }\n",
       "</style>\n",
       "<table border=\"1\" class=\"dataframe\">\n",
       "  <thead>\n",
       "    <tr style=\"text-align: right;\">\n",
       "      <th></th>\n",
       "      <th>AGEGRP</th>\n",
       "      <th>Value</th>\n",
       "    </tr>\n",
       "  </thead>\n",
       "  <tbody>\n",
       "    <tr>\n",
       "      <th>0</th>\n",
       "      <td>Under 5 years</td>\n",
       "      <td>141615</td>\n",
       "    </tr>\n",
       "    <tr>\n",
       "      <th>1</th>\n",
       "      <td>5 to 9 years</td>\n",
       "      <td>141313</td>\n",
       "    </tr>\n",
       "    <tr>\n",
       "      <th>2</th>\n",
       "      <td>10 to 14 years</td>\n",
       "      <td>147091</td>\n",
       "    </tr>\n",
       "    <tr>\n",
       "      <th>3</th>\n",
       "      <td>15 to 19 years</td>\n",
       "      <td>145719</td>\n",
       "    </tr>\n",
       "    <tr>\n",
       "      <th>4</th>\n",
       "      <td>20 to 24 years</td>\n",
       "      <td>140263</td>\n",
       "    </tr>\n",
       "  </tbody>\n",
       "</table>\n",
       "</div>"
      ],
      "text/plain": [
       "           AGEGRP   Value\n",
       "0   Under 5 years  141615\n",
       "1    5 to 9 years  141313\n",
       "2  10 to 14 years  147091\n",
       "3  15 to 19 years  145719\n",
       "4  20 to 24 years  140263"
      ]
     },
     "execution_count": 784,
     "metadata": {},
     "output_type": "execute_result"
    }
   ],
   "source": [
    "# Focus on 10-county region\n",
    "# Read the CSV file into a DataFrame\n",
    "data = pd.read_csv(ACSST5Y2021_TABLE_PATH, index_col=0)\n",
    "\n",
    "# Filter out rows where CTYNAME is not in the \"10-County Region\"\n",
    "data = data[data['NAME'].isin(CONST_REGIONS[\"10-County Region\"])]\n",
    "\n",
    "data = data[['S0101_C01_002E', 'S0101_C01_003E','S0101_C01_004E', 'S0101_C01_005E', 'S0101_C01_006E','S0101_C01_007E', 'S0101_C01_008E', 'S0101_C01_009E','S0101_C01_010E', 'S0101_C01_011E', 'S0101_C01_012E','S0101_C01_013E', 'S0101_C01_014E', 'S0101_C01_015E', 'S0101_C01_016E','S0101_C01_017E', 'S0101_C01_018E', 'S0101_C01_019E']]\n",
    "\n",
    "data = data.rename(columns={'S0101_C01_002E' : 'Under 5 years', 'S0101_C01_003E' : '5 to 9 years','S0101_C01_004E': '10 to 14 years', 'S0101_C01_005E' : '15 to 19 years', 'S0101_C01_006E' : '20 to 24 years','S0101_C01_007E' : '25 to 29 years', 'S0101_C01_008E': '30 to 34 years', 'S0101_C01_009E' : '35 to 39 years','S0101_C01_010E' : '40 to 44 years', 'S0101_C01_011E' : '45 to 49 years', 'S0101_C01_012E' : '50 to 54 years','S0101_C01_013E' : '55 to 59 years', 'S0101_C01_014E' : '60 to 64 years', 'S0101_C01_015E' : '65 to 69 years', 'S0101_C01_016E' : '70 to 74 years','S0101_C01_017E' : '75 to 79 years', 'S0101_C01_018E' : '80 to 84 years', 'S0101_C01_019E' : '85 years and over'})\n",
    "\n",
    "# Convert all columns in the DataFrame to integer type\n",
    "data = data.astype(int)\n",
    "\n",
    "# Sum all columns individually\n",
    "data = data.sum()\n",
    "\n",
    "# Convert the Series to a DataFrame\n",
    "df = data.to_frame().reset_index()\n",
    "\n",
    "# Now df is a DataFrame, you can rename the columns\n",
    "df.columns = ['AGEGRP', 'Value']\n",
    "\n",
    "df.head()"
   ]
  },
  {
   "cell_type": "markdown",
   "id": "fe8fdea7-f446-4628-b0b9-2b2e209c52f8",
   "metadata": {},
   "source": [
    "## Combining age ranges by generation"
   ]
  },
  {
   "cell_type": "markdown",
   "id": "c98b491e-7e35-4adc-9f8e-88098075a53c",
   "metadata": {},
   "source": [
    "### Gen Alpha (Ages 12 and younger)"
   ]
  },
  {
   "cell_type": "code",
   "execution_count": 785,
   "id": "d5a44b24-7e4a-455e-a7e2-946b596163ca",
   "metadata": {},
   "outputs": [
    {
     "data": {
      "text/html": [
       "<div>\n",
       "<style scoped>\n",
       "    .dataframe tbody tr th:only-of-type {\n",
       "        vertical-align: middle;\n",
       "    }\n",
       "\n",
       "    .dataframe tbody tr th {\n",
       "        vertical-align: top;\n",
       "    }\n",
       "\n",
       "    .dataframe thead th {\n",
       "        text-align: right;\n",
       "    }\n",
       "</style>\n",
       "<table border=\"1\" class=\"dataframe\">\n",
       "  <thead>\n",
       "    <tr style=\"text-align: right;\">\n",
       "      <th></th>\n",
       "      <th>AGEGRP</th>\n",
       "      <th>Value</th>\n",
       "    </tr>\n",
       "  </thead>\n",
       "  <tbody>\n",
       "    <tr>\n",
       "      <th>0</th>\n",
       "      <td>Under 5 years</td>\n",
       "      <td>141615.0</td>\n",
       "    </tr>\n",
       "    <tr>\n",
       "      <th>1</th>\n",
       "      <td>5 to 9 years</td>\n",
       "      <td>141313.0</td>\n",
       "    </tr>\n",
       "    <tr>\n",
       "      <th>3</th>\n",
       "      <td>15 to 19 years</td>\n",
       "      <td>145719.0</td>\n",
       "    </tr>\n",
       "    <tr>\n",
       "      <th>4</th>\n",
       "      <td>20 to 24 years</td>\n",
       "      <td>140263.0</td>\n",
       "    </tr>\n",
       "    <tr>\n",
       "      <th>5</th>\n",
       "      <td>25 to 29 years</td>\n",
       "      <td>168503.0</td>\n",
       "    </tr>\n",
       "  </tbody>\n",
       "</table>\n",
       "</div>"
      ],
      "text/plain": [
       "           AGEGRP     Value\n",
       "0   Under 5 years  141615.0\n",
       "1    5 to 9 years  141313.0\n",
       "3  15 to 19 years  145719.0\n",
       "4  20 to 24 years  140263.0\n",
       "5  25 to 29 years  168503.0"
      ]
     },
     "execution_count": 785,
     "metadata": {},
     "output_type": "execute_result"
    }
   ],
   "source": [
    "test_df= df\n",
    "\n",
    "# Filter the rows for the 10-14 age group\n",
    "age_10_14 = test_df[test_df['AGEGRP'] == '10 to 14 years']\n",
    "\n",
    "# Calculate new values assuming equal proportions for the 10-12 and 13-14 sub-ranges\n",
    "# Assuming each year within 10-14 has an equal proportion\n",
    "proportion = 3/5  # 3 years (15-17) out of 5 (15-19)\n",
    "age_10_12_value = age_10_14['Value'] * proportion\n",
    "age_13_14_value = age_10_14['Value'] * (2/5)  # Remaining proportion for 2 years (18-19)\n",
    "\n",
    "# Create new rows for the 15-17 and 18-19 sub-ranges\n",
    "age_10_12_rows = age_10_14.copy()\n",
    "age_13_14_rows = age_10_14.copy()\n",
    "\n",
    "age_10_12_rows['AGEGRP'] = '10 to 12 years'\n",
    "age_10_12_rows['Value'] = age_10_12_value\n",
    "\n",
    "age_13_14_rows['AGEGRP'] = '13 to 14 years'\n",
    "age_13_14_rows['Value'] = age_13_14_value\n",
    "\n",
    "# Append the new rows to the original DataFrame\n",
    "new_df = pd.concat([test_df, age_10_12_rows, age_13_14_rows], ignore_index=True)\n",
    "\n",
    "# Remove the original 15-19 age group rows\n",
    "new_df = new_df[new_df['AGEGRP'] != '10 to 14 years']\n",
    "new_df.head()"
   ]
  },
  {
   "cell_type": "code",
   "execution_count": 786,
   "id": "8a88ea62-c4a1-4692-955e-a960fe569a0c",
   "metadata": {},
   "outputs": [],
   "source": [
    "# Filter the rows for Under 5 years\n",
    "age_under_5_value = new_df.loc[new_df['AGEGRP'] == 'Under 5 years', 'Value'].sum()\n",
    "\n",
    "# Filter the rows for 5 to 9 years\n",
    "age_5_9_value = new_df.loc[new_df['AGEGRP'] == '5 to 9 years', 'Value'].sum()\n",
    "\n",
    "# Filter the rows for 10 to 12 year\n",
    "age_10_12_value = new_df.loc[new_df['AGEGRP'] == '10 to 12 year', 'Value'].sum()\n",
    "\n",
    "GENALPHA_value = age_under_5_value + age_5_9_value + age_10_12_value \n",
    "GENALPHA_row = age_10_12.copy()\n",
    "\n",
    "GENALPHA_row['AGEGRP'] = 'Generation ALPHA (Born 2011 and later)'\n",
    "GENALPHA_row['Value'] = GENALPHA_value\n",
    "\n",
    "final_df = pd.concat([GENALPHA_row,GENZ_row], ignore_index=True)\n"
   ]
  },
  {
   "cell_type": "markdown",
   "id": "534cac5d-17a8-4133-9a7e-58525b598245",
   "metadata": {},
   "source": [
    "### Gen Z (Ages 13 to 27)"
   ]
  },
  {
   "cell_type": "code",
   "execution_count": 787,
   "id": "8d0a7ad4-d5d8-43e6-b062-4618ec2b6534",
   "metadata": {},
   "outputs": [
    {
     "name": "stdout",
     "output_type": "stream",
     "text": [
      "               AGEGRP     Value\n",
      "0       Under 5 years  141615.0\n",
      "1        5 to 9 years  141313.0\n",
      "2      15 to 19 years  145719.0\n",
      "3      20 to 24 years  140263.0\n",
      "5      30 to 34 years  167933.0\n",
      "6      35 to 39 years  155013.0\n",
      "7      40 to 44 years  143232.0\n",
      "8      45 to 49 years  139990.0\n",
      "9      50 to 54 years  137267.0\n",
      "10     55 to 59 years  136630.0\n",
      "11     60 to 64 years  128839.0\n",
      "12     65 to 69 years  104921.0\n",
      "13     70 to 74 years   77186.0\n",
      "14     75 to 79 years   47277.0\n",
      "15     80 to 84 years   31439.0\n",
      "16  85 years and over   32544.0\n",
      "17     10 to 12 years   88254.6\n",
      "18     13 to 14 years   58836.4\n",
      "19     25 to 27 years  101101.8\n",
      "20     28 to 29 years   67401.2\n"
     ]
    }
   ],
   "source": [
    "# Filter the rows for the 25-29 age group\n",
    "age_25_29 = test_df[test_df['AGEGRP'] == '25 to 29 years']\n",
    "\n",
    "# Calculate new values assuming equal proportions for the 25-27 and 28-29 sub-ranges\n",
    "# Assuming each year within 25-29 has an equal proportion\n",
    "proportion = 3/5  # 3 years (25-27) out of 5 (28-29)\n",
    "age_25_27_value = age_25_29['Value'] * proportion\n",
    "age_28_29_value = age_25_29['Value'] * (2/5)  # Remaining proportion for 2 years (18-19)\n",
    "\n",
    "# Create new rows for the 15-17 and 18-19 sub-ranges\n",
    "age_25_27_rows = age_25_29.copy()\n",
    "age_28_29_rows = age_25_29.copy()\n",
    "\n",
    "age_25_27_rows['AGEGRP'] = '25 to 27 years'\n",
    "age_25_27_rows['Value'] = age_25_27_value\n",
    "\n",
    "age_28_29_rows['AGEGRP'] = '28 to 29 years'\n",
    "age_28_29_rows['Value'] = age_28_29_value\n",
    "\n",
    "# Append the new rows to the original DataFrame\n",
    "new_df = pd.concat([new_df, age_25_27_rows, age_28_29_rows], ignore_index=True)\n",
    "\n",
    "# Remove the original 15-19 age group rows\n",
    "new_df = new_df[new_df['AGEGRP'] != '25 to 29 years']\n",
    "print(new_df)"
   ]
  },
  {
   "cell_type": "code",
   "execution_count": 788,
   "id": "a35d414a-2252-42d9-bd41-94356b47f76f",
   "metadata": {},
   "outputs": [
    {
     "data": {
      "text/html": [
       "<div>\n",
       "<style scoped>\n",
       "    .dataframe tbody tr th:only-of-type {\n",
       "        vertical-align: middle;\n",
       "    }\n",
       "\n",
       "    .dataframe tbody tr th {\n",
       "        vertical-align: top;\n",
       "    }\n",
       "\n",
       "    .dataframe thead th {\n",
       "        text-align: right;\n",
       "    }\n",
       "</style>\n",
       "<table border=\"1\" class=\"dataframe\">\n",
       "  <thead>\n",
       "    <tr style=\"text-align: right;\">\n",
       "      <th></th>\n",
       "      <th>AGEGRP</th>\n",
       "      <th>Value</th>\n",
       "    </tr>\n",
       "  </thead>\n",
       "  <tbody>\n",
       "    <tr>\n",
       "      <th>0</th>\n",
       "      <td>Generation ALPHA (Born 2011 and later)</td>\n",
       "      <td>282928.0</td>\n",
       "    </tr>\n",
       "    <tr>\n",
       "      <th>1</th>\n",
       "      <td>Generation Z (Born 1996 - 2009)</td>\n",
       "      <td>305657.2</td>\n",
       "    </tr>\n",
       "  </tbody>\n",
       "</table>\n",
       "</div>"
      ],
      "text/plain": [
       "                                   AGEGRP     Value\n",
       "0  Generation ALPHA (Born 2011 and later)  282928.0\n",
       "1         Generation Z (Born 1996 - 2009)  305657.2"
      ]
     },
     "execution_count": 788,
     "metadata": {},
     "output_type": "execute_result"
    }
   ],
   "source": [
    "# Filter the rows for 13 to 14 years\n",
    "age_13_14_value = new_df.loc[new_df['AGEGRP'] == '13 to 14 years', 'Value'].sum()\n",
    "\n",
    "# Filter the rows for 15 to 19 years\n",
    "age_15_19_value = new_df.loc[new_df['AGEGRP'] == '15 to 19 years', 'Value'].sum()\n",
    "\n",
    "# Filter the rows for 20 to 24 years\n",
    "age_20_24_value = new_df.loc[new_df['AGEGRP'] == '20 to 24 years', 'Value'].sum()\n",
    "\n",
    "# Filter the rows for 25 to 27 years\n",
    "age_25_27_value = new_df.loc[new_df['AGEGRP'] == '25 to 27 years', 'Value'].sum()\n",
    "\n",
    "GENZ_value = age_13_14_value + age_15_19_value + age_10_12_value + age_25_27_value\n",
    "\n",
    "GENZ_row = age_10_12.copy()\n",
    "\n",
    "GENZ_row['AGEGRP'] = 'Generation Z (Born 1996 - 2009)'\n",
    "GENZ_row['Value'] = GENZ_value\n",
    "\n",
    "final_df = pd.concat([GENALPHA_row,GENZ_row], ignore_index=True)\n",
    "\n",
    "final_df.head()"
   ]
  },
  {
   "cell_type": "markdown",
   "id": "e104b53d-c16b-45b1-a684-7c8863084769",
   "metadata": {},
   "source": [
    "### Millenials (Ages 28 to 42)"
   ]
  },
  {
   "cell_type": "code",
   "execution_count": 789,
   "id": "3c23d2a3-ebe5-4eed-a630-f9ba047f3adc",
   "metadata": {},
   "outputs": [
    {
     "name": "stdout",
     "output_type": "stream",
     "text": [
      "               AGEGRP     Value\n",
      "0       Under 5 years  141615.0\n",
      "1        5 to 9 years  141313.0\n",
      "2      15 to 19 years  145719.0\n",
      "3      20 to 24 years  140263.0\n",
      "4      30 to 34 years  167933.0\n",
      "5      35 to 39 years  155013.0\n",
      "7      45 to 49 years  139990.0\n",
      "8      50 to 54 years  137267.0\n",
      "9      55 to 59 years  136630.0\n",
      "10     60 to 64 years  128839.0\n",
      "11     65 to 69 years  104921.0\n",
      "12     70 to 74 years   77186.0\n",
      "13     75 to 79 years   47277.0\n",
      "14     80 to 84 years   31439.0\n",
      "15  85 years and over   32544.0\n",
      "16     10 to 12 years   88254.6\n",
      "17     13 to 14 years   58836.4\n",
      "18     25 to 27 years  101101.8\n",
      "19     28 to 29 years   67401.2\n",
      "20     40 to 42 years   85939.2\n",
      "21     43 to 44 years   57292.8\n"
     ]
    }
   ],
   "source": [
    "# Filter the rows for the 40-44 age group\n",
    "age_40_44 = test_df[test_df['AGEGRP'] == '40 to 44 years']\n",
    "\n",
    "# Calculate new values assuming equal proportions for the 40-42 and 43-44 sub-ranges\n",
    "# Assuming each year within 40-44 has an equal proportion\n",
    "proportion = 3/5  # 3 years (40-42) out of 5 (43-44)\n",
    "age_40_42_value = age_40_44['Value'] * proportion\n",
    "age_43_44_value = age_40_44['Value'] * (2/5)  # Remaining proportion for 2 years (18-19)\n",
    "\n",
    "# Create new rows for the 40-42 and 43-44 sub-ranges\n",
    "age_40_42_rows = age_40_44.copy()\n",
    "age_43_44_rows = age_40_44.copy()\n",
    "\n",
    "age_40_42_rows['AGEGRP'] = '40 to 42 years'\n",
    "age_40_42_rows['Value'] = age_40_42_value\n",
    "\n",
    "age_43_44_rows['AGEGRP'] = '43 to 44 years'\n",
    "age_43_44_rows['Value'] = age_43_44_value\n",
    "\n",
    "# Append the new rows to the original DataFrame\n",
    "new_df = pd.concat([new_df, age_40_42_rows, age_43_44_rows], ignore_index=True)\n",
    "\n",
    "# Remove the original 15-19 age group rows\n",
    "new_df = new_df[new_df['AGEGRP'] != '40 to 44 years']\n",
    "print(new_df)"
   ]
  },
  {
   "cell_type": "code",
   "execution_count": 790,
   "id": "a0e29435-a105-4fa6-ad18-a61916ce5124",
   "metadata": {},
   "outputs": [
    {
     "data": {
      "text/html": [
       "<div>\n",
       "<style scoped>\n",
       "    .dataframe tbody tr th:only-of-type {\n",
       "        vertical-align: middle;\n",
       "    }\n",
       "\n",
       "    .dataframe tbody tr th {\n",
       "        vertical-align: top;\n",
       "    }\n",
       "\n",
       "    .dataframe thead th {\n",
       "        text-align: right;\n",
       "    }\n",
       "</style>\n",
       "<table border=\"1\" class=\"dataframe\">\n",
       "  <thead>\n",
       "    <tr style=\"text-align: right;\">\n",
       "      <th></th>\n",
       "      <th>AGEGRP</th>\n",
       "      <th>Value</th>\n",
       "    </tr>\n",
       "  </thead>\n",
       "  <tbody>\n",
       "    <tr>\n",
       "      <th>0</th>\n",
       "      <td>Generation ALPHA (Born 2011 and later)</td>\n",
       "      <td>282928.0</td>\n",
       "    </tr>\n",
       "    <tr>\n",
       "      <th>1</th>\n",
       "      <td>Generation Z (Born 1996 - 2009)</td>\n",
       "      <td>305657.2</td>\n",
       "    </tr>\n",
       "    <tr>\n",
       "      <th>2</th>\n",
       "      <td>Millenials (Born 1981 - 1995)</td>\n",
       "      <td>476286.4</td>\n",
       "    </tr>\n",
       "  </tbody>\n",
       "</table>\n",
       "</div>"
      ],
      "text/plain": [
       "                                   AGEGRP     Value\n",
       "0  Generation ALPHA (Born 2011 and later)  282928.0\n",
       "1         Generation Z (Born 1996 - 2009)  305657.2\n",
       "2           Millenials (Born 1981 - 1995)  476286.4"
      ]
     },
     "execution_count": 790,
     "metadata": {},
     "output_type": "execute_result"
    }
   ],
   "source": [
    "# Filter the rows for 28 to 29 years\n",
    "age_28_29_value = new_df.loc[new_df['AGEGRP'] == '28 to 29 years', 'Value'].sum()\n",
    "\n",
    "# Filter the rows for 30 to 34 years\n",
    "age_30_34_value = new_df.loc[new_df['AGEGRP'] == '30 to 34 years', 'Value'].sum()\n",
    "\n",
    "# Filter the rows for 35 to 39 years\n",
    "age_35_39_value = new_df.loc[new_df['AGEGRP'] == '35 to 39 years', 'Value'].sum()\n",
    "\n",
    "# Filter the rows for 40 to 42 years\n",
    "age_40_42_value = new_df.loc[new_df['AGEGRP'] == '40 to 42 years', 'Value'].sum()\n",
    "\n",
    "MILLENIALS_value = age_28_29_value + age_30_34_value + age_35_39_value + age_40_42_value\n",
    "\n",
    "MILLENIALS_row = age_40_44.copy()\n",
    "\n",
    "MILLENIALS_row['AGEGRP'] = 'Millenials (Born 1981 - 1995)'\n",
    "MILLENIALS_row['Value'] = MILLENIALS_value\n",
    "\n",
    "final_df = pd.concat([GENALPHA_row, GENZ_row, MILLENIALS_row], ignore_index=True)\n",
    "\n",
    "final_df.head()"
   ]
  },
  {
   "cell_type": "markdown",
   "id": "dab281fa-45cc-461a-967f-4424c1f559dc",
   "metadata": {
    "jp-MarkdownHeadingCollapsed": true
   },
   "source": [
    "### Generation X (Ages 43 to 57)"
   ]
  },
  {
   "cell_type": "code",
   "execution_count": 791,
   "id": "d1488227-07cb-4061-9caf-df25b6fe36df",
   "metadata": {},
   "outputs": [
    {
     "name": "stdout",
     "output_type": "stream",
     "text": [
      "               AGEGRP     Value\n",
      "0       Under 5 years  141615.0\n",
      "1        5 to 9 years  141313.0\n",
      "2      10 to 14 years  147091.0\n",
      "3      15 to 19 years  145719.0\n",
      "4      20 to 24 years  140263.0\n",
      "5      25 to 29 years  168503.0\n",
      "6      30 to 34 years  167933.0\n",
      "7      35 to 39 years  155013.0\n",
      "8      40 to 44 years  143232.0\n",
      "9      45 to 49 years  139990.0\n",
      "10     50 to 54 years  137267.0\n",
      "12     60 to 64 years  128839.0\n",
      "13     65 to 69 years  104921.0\n",
      "14     70 to 74 years   77186.0\n",
      "15     75 to 79 years   47277.0\n",
      "16     80 to 84 years   31439.0\n",
      "17  85 years and over   32544.0\n",
      "18     43 to 44 years   57292.8\n",
      "19     55 to 57 years   81978.0\n",
      "20     58 to 59 years   54652.0\n"
     ]
    }
   ],
   "source": [
    "# Filter the rows for the 55-59 age group\n",
    "age_55_59 = test_df[test_df['AGEGRP'] == '55 to 59 years']\n",
    "\n",
    "# Calculate new values assuming equal proportions for the 55-57 and 58-59 sub-ranges\n",
    "# Assuming each year within 55-59 has an equal proportion\n",
    "proportion = 3/5  # 3 years (55-57) out of 5 (58-59)\n",
    "age_55_57_value = age_55_59['Value'] * proportion\n",
    "age_58_59_value = age_55_59['Value'] * (2/5)  # Remaining proportion for 2 years (18-19)\n",
    "\n",
    "# Create new rows for the 40-42 and 43-44 sub-ranges\n",
    "age_55_57_rows = age_55_59.copy()\n",
    "age_58_59_rows = age_55_59.copy()\n",
    "\n",
    "age_55_57_rows['AGEGRP'] = '55 to 57 years'\n",
    "age_55_57_rows['Value'] = age_55_57_value\n",
    "\n",
    "age_58_59_rows['AGEGRP'] = '58 to 59 years'\n",
    "age_58_59_rows['Value'] = age_58_59_value\n",
    "\n",
    "# Append the new rows to the original DataFrame\n",
    "new_df = pd.concat([test_df,age_43_44_rows, age_55_57_rows, age_58_59_rows], ignore_index=True)\n",
    "\n",
    "# Remove the original 15-19 age group rows\n",
    "new_df = new_df[new_df['AGEGRP'] != '55 to 59 years']\n",
    "print(new_df)"
   ]
  },
  {
   "cell_type": "code",
   "execution_count": 792,
   "id": "cf3791e0-aac7-4f31-a47a-206777514a41",
   "metadata": {},
   "outputs": [
    {
     "data": {
      "text/html": [
       "<div>\n",
       "<style scoped>\n",
       "    .dataframe tbody tr th:only-of-type {\n",
       "        vertical-align: middle;\n",
       "    }\n",
       "\n",
       "    .dataframe tbody tr th {\n",
       "        vertical-align: top;\n",
       "    }\n",
       "\n",
       "    .dataframe thead th {\n",
       "        text-align: right;\n",
       "    }\n",
       "</style>\n",
       "<table border=\"1\" class=\"dataframe\">\n",
       "  <thead>\n",
       "    <tr style=\"text-align: right;\">\n",
       "      <th></th>\n",
       "      <th>AGEGRP</th>\n",
       "      <th>Value</th>\n",
       "    </tr>\n",
       "  </thead>\n",
       "  <tbody>\n",
       "    <tr>\n",
       "      <th>0</th>\n",
       "      <td>Generation ALPHA (Born 2011 and later)</td>\n",
       "      <td>282928.0</td>\n",
       "    </tr>\n",
       "    <tr>\n",
       "      <th>1</th>\n",
       "      <td>Generation Z (Born 1996 - 2009)</td>\n",
       "      <td>305657.2</td>\n",
       "    </tr>\n",
       "    <tr>\n",
       "      <th>2</th>\n",
       "      <td>Millenials (Born 1981 - 1995)</td>\n",
       "      <td>476286.4</td>\n",
       "    </tr>\n",
       "    <tr>\n",
       "      <th>3</th>\n",
       "      <td>Generation X (Born 1966 - 1980)</td>\n",
       "      <td>416527.8</td>\n",
       "    </tr>\n",
       "  </tbody>\n",
       "</table>\n",
       "</div>"
      ],
      "text/plain": [
       "                                   AGEGRP     Value\n",
       "0  Generation ALPHA (Born 2011 and later)  282928.0\n",
       "1         Generation Z (Born 1996 - 2009)  305657.2\n",
       "2           Millenials (Born 1981 - 1995)  476286.4\n",
       "3         Generation X (Born 1966 - 1980)  416527.8"
      ]
     },
     "execution_count": 792,
     "metadata": {},
     "output_type": "execute_result"
    }
   ],
   "source": [
    "# Filter the rows for 43 to 44 years\n",
    "age_43_44_value = new_df.loc[new_df['AGEGRP'] == '43 to 44 years', 'Value'].sum()\n",
    "\n",
    "# Filter the rows for 45 to 49 years\n",
    "age_45_49_value = new_df.loc[new_df['AGEGRP'] == '45 to 49 years', 'Value'].sum()\n",
    "\n",
    "# Filter the rows for 50 to 54 years\n",
    "age_50_54_value = new_df.loc[new_df['AGEGRP'] == '50 to 54 years', 'Value'].sum()\n",
    "\n",
    "# Filter the rows for 55 to 57 yearss\n",
    "age_55_57_value = new_df.loc[new_df['AGEGRP'] == '55 to 57 years', 'Value'].sum()\n",
    "\n",
    "GENX_value = age_43_44_value + age_45_49_value + age_50_54_value + age_55_57_value\n",
    "\n",
    "GENX_row = age_40_44.copy()\n",
    "\n",
    "GENX_row['AGEGRP'] = 'Generation X (Born 1966 - 1980)'\n",
    "GENX_row['Value'] = GENX_value\n",
    "\n",
    "final_df = pd.concat([GENALPHA_row, GENZ_row, MILLENIALS_row, GENX_row], ignore_index=True)\n",
    "\n",
    "final_df.head()"
   ]
  },
  {
   "cell_type": "markdown",
   "id": "4fcf60ae-c7b3-42d8-9609-10b12c7294e9",
   "metadata": {
    "jp-MarkdownHeadingCollapsed": true
   },
   "source": [
    "### Baby Boomer (58 to 77)"
   ]
  },
  {
   "cell_type": "code",
   "execution_count": 793,
   "id": "b91e32a2-862d-4733-8bd3-9776140955bd",
   "metadata": {},
   "outputs": [
    {
     "name": "stdout",
     "output_type": "stream",
     "text": [
      "               AGEGRP     Value\n",
      "0       Under 5 years  141615.0\n",
      "1        5 to 9 years  141313.0\n",
      "2      10 to 14 years  147091.0\n",
      "3      15 to 19 years  145719.0\n",
      "4      20 to 24 years  140263.0\n",
      "5      25 to 29 years  168503.0\n",
      "6      30 to 34 years  167933.0\n",
      "7      35 to 39 years  155013.0\n",
      "8      40 to 44 years  143232.0\n",
      "9      45 to 49 years  139990.0\n",
      "10     50 to 54 years  137267.0\n",
      "12     60 to 64 years  128839.0\n",
      "13     65 to 69 years  104921.0\n",
      "14     70 to 74 years   77186.0\n",
      "15     75 to 79 years   47277.0\n",
      "16     80 to 84 years   31439.0\n",
      "17  85 years and over   32544.0\n",
      "18     58 to 59 years   54652.0\n",
      "19     75 to 77 years   28366.2\n",
      "20     78 to 79 years   18910.8\n"
     ]
    }
   ],
   "source": [
    "# Filter the rows for the 75 to 79 years age group\n",
    "age_75_79 = test_df[test_df['AGEGRP'] == '75 to 79 years']\n",
    "\n",
    "# Calculate new values assuming equal proportions for the 75-77 and 78-79 sub-ranges\n",
    "# Assuming each year within 75 to 79 has an equal proportion\n",
    "proportion = 3/5  # 3 years (75-77) out of 5 (78-79)\n",
    "age_75_77_value = age_75_79['Value'] * proportion\n",
    "age_78_79_value = age_75_79['Value'] * (2/5)  # Remaining proportion for 2 years (18-19)\n",
    "\n",
    "# Create new rows for the 40-42 and 43-44 sub-ranges\n",
    "age_75_77_rows = age_75_79.copy()\n",
    "age_78_79_rows = age_75_79.copy()\n",
    "\n",
    "age_75_77_rows['AGEGRP'] = '75 to 77 years'\n",
    "age_75_77_rows['Value'] = age_75_77_value\n",
    "\n",
    "age_78_79_rows['AGEGRP'] = '78 to 79 years'\n",
    "age_78_79_rows['Value'] = age_78_79_value\n",
    "\n",
    "# Append the new rows to the original DataFrame\n",
    "new_df = pd.concat([test_df,age_58_59_rows, age_75_77_rows, age_78_79_rows], ignore_index=True)\n",
    "\n",
    "# Remove the original 15-19 age group rows\n",
    "new_df = new_df[new_df['AGEGRP'] != '55 to 59 years']\n",
    "print(new_df)"
   ]
  },
  {
   "cell_type": "code",
   "execution_count": 794,
   "id": "e5490141-3407-4f17-86c0-73fc2133462d",
   "metadata": {},
   "outputs": [
    {
     "data": {
      "text/html": [
       "<div>\n",
       "<style scoped>\n",
       "    .dataframe tbody tr th:only-of-type {\n",
       "        vertical-align: middle;\n",
       "    }\n",
       "\n",
       "    .dataframe tbody tr th {\n",
       "        vertical-align: top;\n",
       "    }\n",
       "\n",
       "    .dataframe thead th {\n",
       "        text-align: right;\n",
       "    }\n",
       "</style>\n",
       "<table border=\"1\" class=\"dataframe\">\n",
       "  <thead>\n",
       "    <tr style=\"text-align: right;\">\n",
       "      <th></th>\n",
       "      <th>AGEGRP</th>\n",
       "      <th>Value</th>\n",
       "    </tr>\n",
       "  </thead>\n",
       "  <tbody>\n",
       "    <tr>\n",
       "      <th>0</th>\n",
       "      <td>Generation ALPHA (Born 2011 and later)</td>\n",
       "      <td>282928.0</td>\n",
       "    </tr>\n",
       "    <tr>\n",
       "      <th>1</th>\n",
       "      <td>Generation Z (Born 1996 - 2009)</td>\n",
       "      <td>305657.2</td>\n",
       "    </tr>\n",
       "    <tr>\n",
       "      <th>2</th>\n",
       "      <td>Millenials (Born 1981 - 1995)</td>\n",
       "      <td>476286.4</td>\n",
       "    </tr>\n",
       "    <tr>\n",
       "      <th>3</th>\n",
       "      <td>Generation X (Born 1966 - 1980)</td>\n",
       "      <td>416527.8</td>\n",
       "    </tr>\n",
       "    <tr>\n",
       "      <th>4</th>\n",
       "      <td>Baby Boomers (Born 1946 - 1965)</td>\n",
       "      <td>365598.0</td>\n",
       "    </tr>\n",
       "  </tbody>\n",
       "</table>\n",
       "</div>"
      ],
      "text/plain": [
       "                                   AGEGRP     Value\n",
       "0  Generation ALPHA (Born 2011 and later)  282928.0\n",
       "1         Generation Z (Born 1996 - 2009)  305657.2\n",
       "2           Millenials (Born 1981 - 1995)  476286.4\n",
       "3         Generation X (Born 1966 - 1980)  416527.8\n",
       "4         Baby Boomers (Born 1946 - 1965)  365598.0"
      ]
     },
     "execution_count": 794,
     "metadata": {},
     "output_type": "execute_result"
    }
   ],
   "source": [
    "# Filter the rows for 58 to 59 years\n",
    "age_58_59_value = new_df.loc[new_df['AGEGRP'] == '58 to 59 years', 'Value'].sum()\n",
    "\n",
    "# Filter the rows for 60 to 64 years\n",
    "age_60_64_value = new_df.loc[new_df['AGEGRP'] == '60 to 64 years', 'Value'].sum()\n",
    "\n",
    "# Filter the rows for 65 to 69 years\n",
    "age_65_69_value = new_df.loc[new_df['AGEGRP'] == '65 to 69 years', 'Value'].sum()\n",
    "\n",
    "# Filter the rows for 70 to 74 years\n",
    "age_70_74_value = new_df.loc[new_df['AGEGRP'] == '70 to 74 years', 'Value'].sum()\n",
    "\n",
    "# Filter the rows for 75 to 77 years \n",
    "age_75_77_value = new_df.loc[new_df['AGEGRP'] == '75 to 77 years ', 'Value'].sum()\n",
    "\n",
    "BABYBOOMERS_value = age_58_59_value + age_60_64_value + age_65_69_value + age_70_74_value + age_75_77_value\n",
    "\n",
    "BABYBOOMERS_row = age_75_79.copy()\n",
    "\n",
    "BABYBOOMERS_row['AGEGRP'] = 'Baby Boomers (Born 1946 - 1965)'\n",
    "BABYBOOMERS_row['Value'] = BABYBOOMERS_value\n",
    "\n",
    "final_df = pd.concat([GENALPHA_row, GENZ_row, MILLENIALS_row, GENX_row, BABYBOOMERS_row], ignore_index=True)\n",
    "\n",
    "final_df.head()"
   ]
  },
  {
   "cell_type": "markdown",
   "id": "13ef05a4-e447-4f72-aac1-2eb1f3438bc2",
   "metadata": {
    "jp-MarkdownHeadingCollapsed": true
   },
   "source": [
    "### The Greatest Generation (78+)"
   ]
  },
  {
   "cell_type": "code",
   "execution_count": 795,
   "id": "9c412666-198c-4ac0-819a-3ec334c4aed4",
   "metadata": {},
   "outputs": [],
   "source": [
    "# Filter the rows for the 75 to 79 years age group\n",
    "age_temp = test_df[test_df['AGEGRP'] == '85 years and over']\n",
    "\n",
    "# Filter the rows for 78 to 79 years\n",
    "age_78_79_value = new_df.loc[new_df['AGEGRP'] == '78 to 79 years', 'Value'].sum()\n",
    "\n",
    "# Filter the rows for 80 to 84 years\n",
    "age_80_84_value = new_df.loc[new_df['AGEGRP'] == '80 to 84 years', 'Value'].sum()\n",
    "\n",
    "# Filter the rows for 85 years and over\n",
    "age_over_84_value = new_df.loc[new_df['AGEGRP'] == '85 years and over', 'Value'].sum()\n",
    "\n",
    "GREATESTGENERTAION_value = age_78_79_value + age_80_84_value + age_over_84_value \n",
    "\n",
    "GREATESTGENERTAION_row = age_temp.copy()\n",
    "\n",
    "GREATESTGENERTAION_row['AGEGRP'] = 'The Greatest Generation (Born 1945 or earlier)'\n",
    "GREATESTGENERTAION_row['Value'] = GREATESTGENERTAION_value\n",
    "\n",
    "final_df = pd.concat([GREATESTGENERTAION_row, BABYBOOMERS_row, GENX_row, MILLENIALS_row, GENZ_row, GENALPHA_row], ignore_index=True)\n",
    "\n",
    "\n",
    "# Save the data to the output directory\n",
    "final_df.to_csv(OUTPUT_TABLE_PATH)"
   ]
  },
  {
   "cell_type": "markdown",
   "id": "f9312e65-eae0-4be0-b5f8-34f29c2b776c",
   "metadata": {},
   "source": [
    "## Creating Excel table and chart"
   ]
  },
  {
   "cell_type": "code",
   "execution_count": 796,
   "id": "3aec1bff-12f6-4ad5-bd3d-6e5b1691f4a4",
   "metadata": {},
   "outputs": [],
   "source": [
    "final_df['Proportion'] = final_df['Value'] / final_df['Value'].sum() * 100\n",
    "\n",
    "final_df['Value'] = final_df['Value'] / 1000\n",
    "\n",
    "# Create a new Excel file and add a worksheet\n",
    "workbook = xlsxwriter.Workbook(EXCEL_TABLE_PATH)\n",
    "worksheet = workbook.add_worksheet()\n",
    "\n",
    "# Add the column headers\n",
    "worksheet.write('A1', 'AGEGRP')\n",
    "worksheet.write('B1', 'Value')\n",
    "worksheet.write('C1', 'Proportion')\n",
    "\n",
    "# Write the data to the worksheet\n",
    "for i, row in enumerate(final_df.itertuples(), 1):\n",
    "    worksheet.write(i, 0, row.AGEGRP)\n",
    "    worksheet.write(i, 1, row.Value)\n",
    "    worksheet.write_number(i, 2, row.Proportion, workbook.add_format({'num_format': '0.00\"%\"'}))\n",
    "\n",
    "# Create a chart object of type column\n",
    "chart = workbook.add_chart({'type': 'column'})\n",
    "\n",
    "# Configure the series for the first 6 rows only\n",
    "chart.add_series({\n",
    "    'name':       'Proportion',\n",
    "    'categories': '=Sheet1!$A$2:$A$7',\n",
    "    'values':     '=Sheet1!$B$2:$B$7',\n",
    "   # 'data_labels': {'value': True, 'num_format': '0.00%', 'position': 'outside_end'},\n",
    "    'points': [\n",
    "        {'fill': {'color': morpc.CONST_MORPC_COLORS[\"darkblue\"]}},\n",
    "        {'fill': {'color': morpc.CONST_MORPC_COLORS[\"midblue\"]}},\n",
    "        {'fill': {'color': morpc.CONST_MORPC_COLORS[\"blue\"]}},\n",
    "        {'fill': {'color': morpc.CONST_MORPC_COLORS[\"bluegreen\"]}},\n",
    "        {'fill': {'color': morpc.CONST_MORPC_COLORS[\"darkgreen\"]}},\n",
    "        {'fill': {'color': morpc.CONST_MORPC_COLORS[\"lightgreen\"]}},\n",
    "    ],\n",
    "    'gap':        50, \n",
    "})\n",
    "\n",
    "\n",
    "# Chart dimensions\n",
    "chart_width = 1050  # Width, in pixels\n",
    "chart_height = 750  # Height, in pixels\n",
    "\n",
    "chart.set_title({\n",
    "    'name': 'FIGURE 2.6 POPULATION BY GENERATION',\n",
    "    'name_font': {'name': 'Arial', 'size': 14}\n",
    "})\n",
    "# Remove the x-axis labels\n",
    "chart.set_x_axis({\n",
    "    'name': '',\n",
    "    'name_font': {'name': 'Arial', 'size': 10},  # For the axis title\n",
    "    'num_font': {'name': 'Arial', 'size': 1, 'color': 'white'},  # For the axis labels, though they are minimized\n",
    "    'major_tick_mark': 'none',\n",
    "    'minor_tick_mark': 'none',\n",
    "})\n",
    "\n",
    "# Set the chart gridlines to faint gray\n",
    "chart.set_y_axis({\n",
    "    'name': 'Thousands',\n",
    "    'name_font': {'name': 'Arial', 'size': 10},\n",
    "    'num_font': {'name': 'Arial', 'size': 10},  # For the axis labels\n",
    "    'major_gridlines': {\n",
    "        'visible': True,\n",
    "        'line': {'color': '#D0D0D0', 'width': 1}\n",
    "    },\n",
    "    'major_tick_mark': 'none',\n",
    "})\n",
    "\n",
    "chart.set_legend({\n",
    "    'font': {'name': 'Arial', 'size': 10},\n",
    "    'position': 'bottom'\n",
    "})\n",
    "\n",
    "# Insert the chart into the worksheet\n",
    "worksheet.insert_chart('D2', chart, {'x_scale': 1.8, 'y_scale': 1.5})\n",
    "\n",
    "# Close the workbook to save it\n",
    "workbook.close()"
   ]
  },
  {
   "cell_type": "code",
   "execution_count": 797,
   "id": "242aedf2-3910-484d-add0-a8385b4455f5",
   "metadata": {},
   "outputs": [
    {
     "name": "stdout",
     "output_type": "stream",
     "text": [
      "                                           AGEGRP     Value  Proportion\n",
      "0  The Greatest Generation (Born 1945 or earlier)   82.8938    4.295258\n",
      "1                 Baby Boomers (Born 1946 - 1965)  365.5980   18.943969\n",
      "2                 Generation X (Born 1966 - 1980)  416.5278   21.582968\n",
      "3                   Millenials (Born 1981 - 1995)  476.2864   24.679443\n",
      "4                 Generation Z (Born 1996 - 2009)  305.6572   15.838053\n",
      "5          Generation ALPHA (Born 2011 and later)  282.9280   14.660308\n"
     ]
    }
   ],
   "source": [
    "print(final_df)"
   ]
  }
 ],
 "metadata": {
  "kernelspec": {
   "display_name": "Python 3 (ipykernel)",
   "language": "python",
   "name": "python3"
  },
  "language_info": {
   "codemirror_mode": {
    "name": "ipython",
    "version": 3
   },
   "file_extension": ".py",
   "mimetype": "text/x-python",
   "name": "python",
   "nbconvert_exporter": "python",
   "pygments_lexer": "ipython3",
   "version": "3.12.2"
  }
 },
 "nbformat": 4,
 "nbformat_minor": 5
}
